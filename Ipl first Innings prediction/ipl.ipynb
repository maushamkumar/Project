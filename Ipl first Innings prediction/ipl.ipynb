{
 "cells": [
  {
   "cell_type": "code",
   "execution_count": 160,
   "id": "9c21aa85-c146-426b-9f2c-7920498b20be",
   "metadata": {},
   "outputs": [],
   "source": [
    "import pandas as pd \n",
    "import numpy as np \n",
    "import warnings \n",
    "warnings.simplefilter(\"ignore\")"
   ]
  },
  {
   "cell_type": "code",
   "execution_count": 116,
   "id": "61298440-8ecd-49f7-bb7b-c5bb6871e929",
   "metadata": {},
   "outputs": [],
   "source": [
    "# Loading the dataset \n",
    "df = pd.read_csv('ipl.csv')"
   ]
  },
  {
   "cell_type": "code",
   "execution_count": 3,
   "id": "d1a2aa71-ae9f-4cbd-9d2e-41c3ca2b63f9",
   "metadata": {},
   "outputs": [
    {
     "data": {
      "text/html": [
       "<div>\n",
       "<style scoped>\n",
       "    .dataframe tbody tr th:only-of-type {\n",
       "        vertical-align: middle;\n",
       "    }\n",
       "\n",
       "    .dataframe tbody tr th {\n",
       "        vertical-align: top;\n",
       "    }\n",
       "\n",
       "    .dataframe thead th {\n",
       "        text-align: right;\n",
       "    }\n",
       "</style>\n",
       "<table border=\"1\" class=\"dataframe\">\n",
       "  <thead>\n",
       "    <tr style=\"text-align: right;\">\n",
       "      <th></th>\n",
       "      <th>mid</th>\n",
       "      <th>date</th>\n",
       "      <th>venue</th>\n",
       "      <th>bat_team</th>\n",
       "      <th>bowl_team</th>\n",
       "      <th>batsman</th>\n",
       "      <th>bowler</th>\n",
       "      <th>runs</th>\n",
       "      <th>wickets</th>\n",
       "      <th>overs</th>\n",
       "      <th>runs_last_5</th>\n",
       "      <th>wickets_last_5</th>\n",
       "      <th>striker</th>\n",
       "      <th>non-striker</th>\n",
       "      <th>total</th>\n",
       "    </tr>\n",
       "  </thead>\n",
       "  <tbody>\n",
       "    <tr>\n",
       "      <th>0</th>\n",
       "      <td>1</td>\n",
       "      <td>2008-04-18</td>\n",
       "      <td>M Chinnaswamy Stadium</td>\n",
       "      <td>Kolkata Knight Riders</td>\n",
       "      <td>Royal Challengers Bangalore</td>\n",
       "      <td>SC Ganguly</td>\n",
       "      <td>P Kumar</td>\n",
       "      <td>1</td>\n",
       "      <td>0</td>\n",
       "      <td>0.1</td>\n",
       "      <td>1</td>\n",
       "      <td>0</td>\n",
       "      <td>0</td>\n",
       "      <td>0</td>\n",
       "      <td>222</td>\n",
       "    </tr>\n",
       "    <tr>\n",
       "      <th>1</th>\n",
       "      <td>1</td>\n",
       "      <td>2008-04-18</td>\n",
       "      <td>M Chinnaswamy Stadium</td>\n",
       "      <td>Kolkata Knight Riders</td>\n",
       "      <td>Royal Challengers Bangalore</td>\n",
       "      <td>BB McCullum</td>\n",
       "      <td>P Kumar</td>\n",
       "      <td>1</td>\n",
       "      <td>0</td>\n",
       "      <td>0.2</td>\n",
       "      <td>1</td>\n",
       "      <td>0</td>\n",
       "      <td>0</td>\n",
       "      <td>0</td>\n",
       "      <td>222</td>\n",
       "    </tr>\n",
       "    <tr>\n",
       "      <th>2</th>\n",
       "      <td>1</td>\n",
       "      <td>2008-04-18</td>\n",
       "      <td>M Chinnaswamy Stadium</td>\n",
       "      <td>Kolkata Knight Riders</td>\n",
       "      <td>Royal Challengers Bangalore</td>\n",
       "      <td>BB McCullum</td>\n",
       "      <td>P Kumar</td>\n",
       "      <td>2</td>\n",
       "      <td>0</td>\n",
       "      <td>0.2</td>\n",
       "      <td>2</td>\n",
       "      <td>0</td>\n",
       "      <td>0</td>\n",
       "      <td>0</td>\n",
       "      <td>222</td>\n",
       "    </tr>\n",
       "    <tr>\n",
       "      <th>3</th>\n",
       "      <td>1</td>\n",
       "      <td>2008-04-18</td>\n",
       "      <td>M Chinnaswamy Stadium</td>\n",
       "      <td>Kolkata Knight Riders</td>\n",
       "      <td>Royal Challengers Bangalore</td>\n",
       "      <td>BB McCullum</td>\n",
       "      <td>P Kumar</td>\n",
       "      <td>2</td>\n",
       "      <td>0</td>\n",
       "      <td>0.3</td>\n",
       "      <td>2</td>\n",
       "      <td>0</td>\n",
       "      <td>0</td>\n",
       "      <td>0</td>\n",
       "      <td>222</td>\n",
       "    </tr>\n",
       "    <tr>\n",
       "      <th>4</th>\n",
       "      <td>1</td>\n",
       "      <td>2008-04-18</td>\n",
       "      <td>M Chinnaswamy Stadium</td>\n",
       "      <td>Kolkata Knight Riders</td>\n",
       "      <td>Royal Challengers Bangalore</td>\n",
       "      <td>BB McCullum</td>\n",
       "      <td>P Kumar</td>\n",
       "      <td>2</td>\n",
       "      <td>0</td>\n",
       "      <td>0.4</td>\n",
       "      <td>2</td>\n",
       "      <td>0</td>\n",
       "      <td>0</td>\n",
       "      <td>0</td>\n",
       "      <td>222</td>\n",
       "    </tr>\n",
       "  </tbody>\n",
       "</table>\n",
       "</div>"
      ],
      "text/plain": [
       "   mid        date                  venue               bat_team  \\\n",
       "0    1  2008-04-18  M Chinnaswamy Stadium  Kolkata Knight Riders   \n",
       "1    1  2008-04-18  M Chinnaswamy Stadium  Kolkata Knight Riders   \n",
       "2    1  2008-04-18  M Chinnaswamy Stadium  Kolkata Knight Riders   \n",
       "3    1  2008-04-18  M Chinnaswamy Stadium  Kolkata Knight Riders   \n",
       "4    1  2008-04-18  M Chinnaswamy Stadium  Kolkata Knight Riders   \n",
       "\n",
       "                     bowl_team      batsman   bowler  runs  wickets  overs  \\\n",
       "0  Royal Challengers Bangalore   SC Ganguly  P Kumar     1        0    0.1   \n",
       "1  Royal Challengers Bangalore  BB McCullum  P Kumar     1        0    0.2   \n",
       "2  Royal Challengers Bangalore  BB McCullum  P Kumar     2        0    0.2   \n",
       "3  Royal Challengers Bangalore  BB McCullum  P Kumar     2        0    0.3   \n",
       "4  Royal Challengers Bangalore  BB McCullum  P Kumar     2        0    0.4   \n",
       "\n",
       "   runs_last_5  wickets_last_5  striker  non-striker  total  \n",
       "0            1               0        0            0    222  \n",
       "1            1               0        0            0    222  \n",
       "2            2               0        0            0    222  \n",
       "3            2               0        0            0    222  \n",
       "4            2               0        0            0    222  "
      ]
     },
     "execution_count": 3,
     "metadata": {},
     "output_type": "execute_result"
    }
   ],
   "source": [
    "df.head()"
   ]
  },
  {
   "cell_type": "markdown",
   "id": "fc2d37b0-ff5c-43e8-b5cf-3fc98758e1ce",
   "metadata": {},
   "source": [
    "## Exploring the dataset "
   ]
  },
  {
   "cell_type": "code",
   "execution_count": 82,
   "id": "58e0d409-5c12-4938-aec4-89496166cd9f",
   "metadata": {},
   "outputs": [
    {
     "data": {
      "text/plain": [
       "date              0\n",
       "bat_team          0\n",
       "bowl_team         0\n",
       "runs              0\n",
       "wickets           0\n",
       "overs             0\n",
       "runs_last_5       0\n",
       "wickets_last_5    0\n",
       "total             0\n",
       "dtype: int64"
      ]
     },
     "execution_count": 82,
     "metadata": {},
     "output_type": "execute_result"
    }
   ],
   "source": [
    "df.isnull().sum()"
   ]
  },
  {
   "cell_type": "code",
   "execution_count": 4,
   "id": "ffcb3f07-78e2-418b-89c5-f3f3af7a310c",
   "metadata": {},
   "outputs": [
    {
     "data": {
      "text/plain": [
       "Index(['mid', 'date', 'venue', 'bat_team', 'bowl_team', 'batsman', 'bowler',\n",
       "       'runs', 'wickets', 'overs', 'runs_last_5', 'wickets_last_5', 'striker',\n",
       "       'non-striker', 'total'],\n",
       "      dtype='object')"
      ]
     },
     "execution_count": 4,
     "metadata": {},
     "output_type": "execute_result"
    }
   ],
   "source": [
    "df.columns"
   ]
  },
  {
   "cell_type": "code",
   "execution_count": 5,
   "id": "65b245ac-dd27-4ae7-a9b4-21f88eb92e0f",
   "metadata": {},
   "outputs": [
    {
     "data": {
      "text/plain": [
       "(76014, 15)"
      ]
     },
     "execution_count": 5,
     "metadata": {},
     "output_type": "execute_result"
    }
   ],
   "source": [
    "df.shape"
   ]
  },
  {
   "cell_type": "code",
   "execution_count": 9,
   "id": "44f54676-2df9-4b01-be6e-788a54b48bf3",
   "metadata": {},
   "outputs": [
    {
     "name": "stdout",
     "output_type": "stream",
     "text": [
      "<class 'pandas.core.frame.DataFrame'>\n",
      "RangeIndex: 76014 entries, 0 to 76013\n",
      "Data columns (total 15 columns):\n",
      " #   Column          Non-Null Count  Dtype  \n",
      "---  ------          --------------  -----  \n",
      " 0   mid             76014 non-null  int64  \n",
      " 1   date            76014 non-null  object \n",
      " 2   venue           76014 non-null  object \n",
      " 3   bat_team        76014 non-null  object \n",
      " 4   bowl_team       76014 non-null  object \n",
      " 5   batsman         76014 non-null  object \n",
      " 6   bowler          76014 non-null  object \n",
      " 7   runs            76014 non-null  int64  \n",
      " 8   wickets         76014 non-null  int64  \n",
      " 9   overs           76014 non-null  float64\n",
      " 10  runs_last_5     76014 non-null  int64  \n",
      " 11  wickets_last_5  76014 non-null  int64  \n",
      " 12  striker         76014 non-null  int64  \n",
      " 13  non-striker     76014 non-null  int64  \n",
      " 14  total           76014 non-null  int64  \n",
      "dtypes: float64(1), int64(8), object(6)\n",
      "memory usage: 8.7+ MB\n"
     ]
    }
   ],
   "source": [
    "df.info()"
   ]
  },
  {
   "cell_type": "markdown",
   "id": "ed89f915-618e-43a0-8315-cec08899436d",
   "metadata": {},
   "source": [
    "## Data Cleaning \n",
    "Points covered under this section:\n",
    "- Removing unwanted columns\n",
    "- Keeping only consistent teams\n",
    "- Removing the first 5 over data in every match\n",
    "- Converting the column 'date' from string into datetime object "
   ]
  },
  {
   "cell_type": "code",
   "execution_count": 10,
   "id": "7123551b-38d9-452a-a610-4c572f82620d",
   "metadata": {},
   "outputs": [
    {
     "data": {
      "text/plain": [
       "Index(['mid', 'date', 'venue', 'bat_team', 'bowl_team', 'batsman', 'bowler',\n",
       "       'runs', 'wickets', 'overs', 'runs_last_5', 'wickets_last_5', 'striker',\n",
       "       'non-striker', 'total'],\n",
       "      dtype='object')"
      ]
     },
     "execution_count": 10,
     "metadata": {},
     "output_type": "execute_result"
    }
   ],
   "source": [
    "df.columns"
   ]
  },
  {
   "cell_type": "code",
   "execution_count": 119,
   "id": "4678a9e0-45e3-4e52-84be-76554bf65d3b",
   "metadata": {},
   "outputs": [
    {
     "name": "stdout",
     "output_type": "stream",
     "text": [
      "Before removing unwanted columns: (76014, 15)\n",
      "After removing unwanted columns: (76014, 9)\n"
     ]
    }
   ],
   "source": [
    "# Removing unwanted columns \n",
    "columns_to_remove = ['mid', 'venue', 'batsman', 'bowler', 'striker', 'non-striker']\n",
    "\n",
    "print(\"Before removing unwanted columns: {}\".format(df.shape))\n",
    "df.drop(labels=columns_to_remove, axis=1, inplace=True)\n",
    "print(\"After removing unwanted columns: {}\".format(df.shape))"
   ]
  },
  {
   "cell_type": "code",
   "execution_count": 21,
   "id": "add73bc3-384e-43c1-8066-29abe6282b5c",
   "metadata": {},
   "outputs": [
    {
     "data": {
      "text/plain": [
       "Index(['date', 'bat_team', 'bowl_team', 'runs', 'wickets', 'overs',\n",
       "       'runs_last_5', 'wickets_last_5', 'total'],\n",
       "      dtype='object')"
      ]
     },
     "execution_count": 21,
     "metadata": {},
     "output_type": "execute_result"
    }
   ],
   "source": [
    "df.columns"
   ]
  },
  {
   "cell_type": "code",
   "execution_count": 20,
   "id": "7cd9319a-fccd-47e0-a36a-403904536cea",
   "metadata": {},
   "outputs": [
    {
     "data": {
      "text/html": [
       "<div>\n",
       "<style scoped>\n",
       "    .dataframe tbody tr th:only-of-type {\n",
       "        vertical-align: middle;\n",
       "    }\n",
       "\n",
       "    .dataframe tbody tr th {\n",
       "        vertical-align: top;\n",
       "    }\n",
       "\n",
       "    .dataframe thead th {\n",
       "        text-align: right;\n",
       "    }\n",
       "</style>\n",
       "<table border=\"1\" class=\"dataframe\">\n",
       "  <thead>\n",
       "    <tr style=\"text-align: right;\">\n",
       "      <th></th>\n",
       "      <th>date</th>\n",
       "      <th>bat_team</th>\n",
       "      <th>bowl_team</th>\n",
       "      <th>runs</th>\n",
       "      <th>wickets</th>\n",
       "      <th>overs</th>\n",
       "      <th>runs_last_5</th>\n",
       "      <th>wickets_last_5</th>\n",
       "      <th>total</th>\n",
       "    </tr>\n",
       "  </thead>\n",
       "  <tbody>\n",
       "    <tr>\n",
       "      <th>0</th>\n",
       "      <td>2008-04-18</td>\n",
       "      <td>Kolkata Knight Riders</td>\n",
       "      <td>Royal Challengers Bangalore</td>\n",
       "      <td>1</td>\n",
       "      <td>0</td>\n",
       "      <td>0.1</td>\n",
       "      <td>1</td>\n",
       "      <td>0</td>\n",
       "      <td>222</td>\n",
       "    </tr>\n",
       "    <tr>\n",
       "      <th>1</th>\n",
       "      <td>2008-04-18</td>\n",
       "      <td>Kolkata Knight Riders</td>\n",
       "      <td>Royal Challengers Bangalore</td>\n",
       "      <td>1</td>\n",
       "      <td>0</td>\n",
       "      <td>0.2</td>\n",
       "      <td>1</td>\n",
       "      <td>0</td>\n",
       "      <td>222</td>\n",
       "    </tr>\n",
       "    <tr>\n",
       "      <th>2</th>\n",
       "      <td>2008-04-18</td>\n",
       "      <td>Kolkata Knight Riders</td>\n",
       "      <td>Royal Challengers Bangalore</td>\n",
       "      <td>2</td>\n",
       "      <td>0</td>\n",
       "      <td>0.2</td>\n",
       "      <td>2</td>\n",
       "      <td>0</td>\n",
       "      <td>222</td>\n",
       "    </tr>\n",
       "    <tr>\n",
       "      <th>3</th>\n",
       "      <td>2008-04-18</td>\n",
       "      <td>Kolkata Knight Riders</td>\n",
       "      <td>Royal Challengers Bangalore</td>\n",
       "      <td>2</td>\n",
       "      <td>0</td>\n",
       "      <td>0.3</td>\n",
       "      <td>2</td>\n",
       "      <td>0</td>\n",
       "      <td>222</td>\n",
       "    </tr>\n",
       "    <tr>\n",
       "      <th>4</th>\n",
       "      <td>2008-04-18</td>\n",
       "      <td>Kolkata Knight Riders</td>\n",
       "      <td>Royal Challengers Bangalore</td>\n",
       "      <td>2</td>\n",
       "      <td>0</td>\n",
       "      <td>0.4</td>\n",
       "      <td>2</td>\n",
       "      <td>0</td>\n",
       "      <td>222</td>\n",
       "    </tr>\n",
       "  </tbody>\n",
       "</table>\n",
       "</div>"
      ],
      "text/plain": [
       "         date               bat_team                    bowl_team  runs  \\\n",
       "0  2008-04-18  Kolkata Knight Riders  Royal Challengers Bangalore     1   \n",
       "1  2008-04-18  Kolkata Knight Riders  Royal Challengers Bangalore     1   \n",
       "2  2008-04-18  Kolkata Knight Riders  Royal Challengers Bangalore     2   \n",
       "3  2008-04-18  Kolkata Knight Riders  Royal Challengers Bangalore     2   \n",
       "4  2008-04-18  Kolkata Knight Riders  Royal Challengers Bangalore     2   \n",
       "\n",
       "   wickets  overs  runs_last_5  wickets_last_5  total  \n",
       "0        0    0.1            1               0    222  \n",
       "1        0    0.2            1               0    222  \n",
       "2        0    0.2            2               0    222  \n",
       "3        0    0.3            2               0    222  \n",
       "4        0    0.4            2               0    222  "
      ]
     },
     "execution_count": 20,
     "metadata": {},
     "output_type": "execute_result"
    }
   ],
   "source": [
    "df.head()"
   ]
  },
  {
   "cell_type": "code",
   "execution_count": 22,
   "id": "5dc1dda5-efc2-4b68-91ef-fe147cc7bbec",
   "metadata": {},
   "outputs": [
    {
     "data": {
      "text/plain": [
       "RangeIndex(start=0, stop=76014, step=1)"
      ]
     },
     "execution_count": 22,
     "metadata": {},
     "output_type": "execute_result"
    }
   ],
   "source": [
    "df.index"
   ]
  },
  {
   "cell_type": "code",
   "execution_count": 23,
   "id": "582fcb13-3ef4-4111-a0b6-d3f16947b4b6",
   "metadata": {},
   "outputs": [
    {
     "data": {
      "text/plain": [
       "array(['Kolkata Knight Riders', 'Chennai Super Kings', 'Rajasthan Royals',\n",
       "       'Mumbai Indians', 'Deccan Chargers', 'Kings XI Punjab',\n",
       "       'Royal Challengers Bangalore', 'Delhi Daredevils',\n",
       "       'Kochi Tuskers Kerala', 'Pune Warriors', 'Sunrisers Hyderabad',\n",
       "       'Rising Pune Supergiants', 'Gujarat Lions',\n",
       "       'Rising Pune Supergiant'], dtype=object)"
      ]
     },
     "execution_count": 23,
     "metadata": {},
     "output_type": "execute_result"
    }
   ],
   "source": [
    "df['bat_team'].unique()"
   ]
  },
  {
   "cell_type": "code",
   "execution_count": 120,
   "id": "b3e49460-5789-42b2-adfa-64ee4f58a148",
   "metadata": {},
   "outputs": [],
   "source": [
    "consistent_teams = ['Kolkata Knight Riders', 'Chennai Super Kings', 'Rajasthan Royals',\n",
    "                    'Mumbai Indians', 'Kings XI Punjab', 'Royal Challengers Bangalore',\n",
    "                    'Delhi Daredevils', 'Sunrisers Hyderabad',   ]"
   ]
  },
  {
   "cell_type": "code",
   "execution_count": 121,
   "id": "e439399b-645b-4a43-a29a-9f3acb8b0ab7",
   "metadata": {},
   "outputs": [
    {
     "name": "stdout",
     "output_type": "stream",
     "text": [
      "Before removing inconsistent teams: (76014, 9)\n",
      "After removing inconsistent teams: (53811, 9)\n"
     ]
    }
   ],
   "source": [
    "# Keeping only consistent teams \n",
    "print(\"Before removing inconsistent teams: {}\".format(df.shape))\n",
    "df = df[(df['bat_team'].isin(consistent_teams)) & (df['bowl_team'].isin(consistent_teams))]\n",
    "print(\"After removing inconsistent teams: {}\".format(df.shape))"
   ]
  },
  {
   "cell_type": "code",
   "execution_count": 122,
   "id": "0bbc8a54-bb00-4d88-a488-90df6d69aa4d",
   "metadata": {},
   "outputs": [
    {
     "name": "stdout",
     "output_type": "stream",
     "text": [
      "Before removing first 5 over data: (53811, 9)\n",
      "After removing first 5 over data: (40108, 9)\n"
     ]
    }
   ],
   "source": [
    "# Removing the first 5 overs data in every match \n",
    "print (\"Before removing first 5 over data: {}\".format(df.shape))\n",
    "df = df[df['overs'] >= 5.0]\n",
    "print (\"After removing first 5 over data: {}\".format(df.shape))"
   ]
  },
  {
   "cell_type": "code",
   "execution_count": null,
   "id": "aae030b0-8dae-4073-97e3-fe8321243df6",
   "metadata": {},
   "outputs": [],
   "source": []
  },
  {
   "cell_type": "code",
   "execution_count": 123,
   "id": "84298d19-422e-4579-860b-07f82e95944d",
   "metadata": {},
   "outputs": [
    {
     "name": "stdout",
     "output_type": "stream",
     "text": [
      "Before converting 'date' column from string to datetime object: <class 'str'>\n",
      "After converting 'date' column from string to datetime object: <class 'pandas._libs.tslibs.timestamps.Timestamp'>\n"
     ]
    }
   ],
   "source": [
    "# Converting the column 'date' from string into datetime object \n",
    "from datetime import datetime\n",
    "print(\"Before converting 'date' column from string to datetime object: {}\".format(type(df.iloc[0, 0])))\n",
    "df['date'] = df['date'].apply(lambda x: datetime.strptime(x, '%Y-%m-%d'))\n",
    "print(\"After converting 'date' column from string to datetime object: {}\".format(type(df.iloc[0, 0])))"
   ]
  },
  {
   "cell_type": "code",
   "execution_count": 110,
   "id": "edcaa763-a98b-4e12-b8c2-6eb5d8468600",
   "metadata": {},
   "outputs": [
    {
     "name": "stdout",
     "output_type": "stream",
     "text": [
      "                    runs   wickets     overs  runs_last_5  wickets_last_5  \\\n",
      "runs            1.000000  0.359222  0.879575     0.584435        0.115359   \n",
      "wickets         0.359222  1.000000  0.635803    -0.203286        0.633125   \n",
      "overs           0.879575  0.635803  1.000000     0.286564        0.221914   \n",
      "runs_last_5     0.584435 -0.203286  0.286564     1.000000       -0.276398   \n",
      "wickets_last_5  0.115359  0.633125  0.221914    -0.276398        1.000000   \n",
      "total           0.391254 -0.457055  0.028468     0.587091       -0.297397   \n",
      "\n",
      "                   total  \n",
      "runs            0.391254  \n",
      "wickets        -0.457055  \n",
      "overs           0.028468  \n",
      "runs_last_5     0.587091  \n",
      "wickets_last_5 -0.297397  \n",
      "total           1.000000  \n"
     ]
    },
    {
     "data": {
      "image/png": "[encoded data removed]",
      "text/plain": [
       "<Figure size 1300x1000 with 2 Axes>"
      ]
     },
     "metadata": {},
     "output_type": "display_data"
    }
   ],
   "source": [
    "# Selecting correlated features using Heatmap \n",
    "import matplotlib.pyplot as plt \n",
    "import seaborn as sns \n",
    "\n",
    "\n",
    "# Get correlation of all the feature of the dataset \n",
    "corr_matrix  = df.select_dtypes(np.number).corr()\n",
    "print(corr_matrix)\n",
    "\n",
    "top_corr_features = corr_matrix.index\n",
    "\n",
    "# Plotting the heatmap \n",
    "plt.figure(figsize=(13, 10))\n",
    "g = sns.heatmap(data=df[top_corr_features].corr(), annot=True, cmap='RdYlGn')"
   ]
  },
  {
   "cell_type": "markdown",
   "id": "d66c3bee-b94c-4a5f-bb33-42d9b59840bc",
   "metadata": {},
   "source": [
    "## Data  Preprocessing \n",
    "- Handling categorical features\n",
    "- Splitting dataset into train and test set on the basis of date "
   ]
  },
  {
   "cell_type": "code",
   "execution_count": null,
   "id": "b822638e-42a2-4bf9-9d3f-b7ffbc6cab51",
   "metadata": {},
   "outputs": [],
   "source": []
  },
  {
   "cell_type": "code",
   "execution_count": 126,
   "id": "aa1d572d-25b2-4ca9-a2c5-a7f6aac5c68e",
   "metadata": {},
   "outputs": [
    {
     "name": "stderr",
     "output_type": "stream",
     "text": [
      "/Users/sanjaymahto/anaconda3/lib/python3.11/site-packages/sklearn/preprocessing/_encoders.py:975: FutureWarning: `sparse` was renamed to `sparse_output` in version 1.2 and will be removed in 1.4. `sparse_output` is ignored unless you leave `sparse` to its default value.\n",
      "  warnings.warn(\n"
     ]
    },
    {
     "name": "stdout",
     "output_type": "stream",
     "text": [
      "runs                                     0\n",
      "wickets                                  0\n",
      "overs                                    0\n",
      "runs_last_5                              0\n",
      "wickets_last_5                           0\n",
      "bat_team_Delhi Daredevils                0\n",
      "bat_team_Kings XI Punjab                 0\n",
      "bat_team_Kolkata Knight Riders           0\n",
      "bat_team_Mumbai Indians                  0\n",
      "bat_team_Rajasthan Royals                0\n",
      "bat_team_Royal Challengers Bangalore     0\n",
      "bat_team_Sunrisers Hyderabad             0\n",
      "bowl_team_Delhi Daredevils               0\n",
      "bowl_team_Kings XI Punjab                0\n",
      "bowl_team_Kolkata Knight Riders          0\n",
      "bowl_team_Mumbai Indians                 0\n",
      "bowl_team_Rajasthan Royals               0\n",
      "bowl_team_Royal Challengers Bangalore    0\n",
      "bowl_team_Sunrisers Hyderabad            0\n",
      "dtype: int64\n",
      "runs                                     0\n",
      "wickets                                  0\n",
      "overs                                    0\n",
      "runs_last_5                              0\n",
      "wickets_last_5                           0\n",
      "bat_team_Delhi Daredevils                0\n",
      "bat_team_Kings XI Punjab                 0\n",
      "bat_team_Kolkata Knight Riders           0\n",
      "bat_team_Mumbai Indians                  0\n",
      "bat_team_Rajasthan Royals                0\n",
      "bat_team_Royal Challengers Bangalore     0\n",
      "bat_team_Sunrisers Hyderabad             0\n",
      "bowl_team_Delhi Daredevils               0\n",
      "bowl_team_Kings XI Punjab                0\n",
      "bowl_team_Kolkata Knight Riders          0\n",
      "bowl_team_Mumbai Indians                 0\n",
      "bowl_team_Rajasthan Royals               0\n",
      "bowl_team_Royal Challengers Bangalore    0\n",
      "bowl_team_Sunrisers Hyderabad            0\n",
      "dtype: int64\n",
      "   runs  wickets  overs  runs_last_5  wickets_last_5  \\\n",
      "0    61        0    5.1           59               0   \n",
      "1    61        1    5.2           59               1   \n",
      "2    61        1    5.3           59               1   \n",
      "3    61        1    5.4           59               1   \n",
      "4    61        1    5.5           58               1   \n",
      "\n",
      "   bat_team_Delhi Daredevils  bat_team_Kings XI Punjab  \\\n",
      "0                        0.0                       0.0   \n",
      "1                        0.0                       0.0   \n",
      "2                        0.0                       0.0   \n",
      "3                        0.0                       0.0   \n",
      "4                        0.0                       0.0   \n",
      "\n",
      "   bat_team_Kolkata Knight Riders  bat_team_Mumbai Indians  \\\n",
      "0                             1.0                      0.0   \n",
      "1                             1.0                      0.0   \n",
      "2                             1.0                      0.0   \n",
      "3                             1.0                      0.0   \n",
      "4                             1.0                      0.0   \n",
      "\n",
      "   bat_team_Rajasthan Royals  bat_team_Royal Challengers Bangalore  \\\n",
      "0                        0.0                                   0.0   \n",
      "1                        0.0                                   0.0   \n",
      "2                        0.0                                   0.0   \n",
      "3                        0.0                                   0.0   \n",
      "4                        0.0                                   0.0   \n",
      "\n",
      "   bat_team_Sunrisers Hyderabad  bowl_team_Delhi Daredevils  \\\n",
      "0                           0.0                         0.0   \n",
      "1                           0.0                         0.0   \n",
      "2                           0.0                         0.0   \n",
      "3                           0.0                         0.0   \n",
      "4                           0.0                         0.0   \n",
      "\n",
      "   bowl_team_Kings XI Punjab  bowl_team_Kolkata Knight Riders  \\\n",
      "0                        0.0                              0.0   \n",
      "1                        0.0                              0.0   \n",
      "2                        0.0                              0.0   \n",
      "3                        0.0                              0.0   \n",
      "4                        0.0                              0.0   \n",
      "\n",
      "   bowl_team_Mumbai Indians  bowl_team_Rajasthan Royals  \\\n",
      "0                       0.0                         0.0   \n",
      "1                       0.0                         0.0   \n",
      "2                       0.0                         0.0   \n",
      "3                       0.0                         0.0   \n",
      "4                       0.0                         0.0   \n",
      "\n",
      "   bowl_team_Royal Challengers Bangalore  bowl_team_Sunrisers Hyderabad  \n",
      "0                                    1.0                            0.0  \n",
      "1                                    1.0                            0.0  \n",
      "2                                    1.0                            0.0  \n",
      "3                                    1.0                            0.0  \n",
      "4                                    1.0                            0.0  \n",
      "   runs  wickets  overs  runs_last_5  wickets_last_5  \\\n",
      "0    46        1    5.1           42               1   \n",
      "1    50        1    5.2           46               1   \n",
      "2    50        1    5.3           44               1   \n",
      "3    54        1    5.4           48               1   \n",
      "4    58        1    5.5           51               1   \n",
      "\n",
      "   bat_team_Delhi Daredevils  bat_team_Kings XI Punjab  \\\n",
      "0                        0.0                       0.0   \n",
      "1                        0.0                       0.0   \n",
      "2                        0.0                       0.0   \n",
      "3                        0.0                       0.0   \n",
      "4                        0.0                       0.0   \n",
      "\n",
      "   bat_team_Kolkata Knight Riders  bat_team_Mumbai Indians  \\\n",
      "0                             0.0                      0.0   \n",
      "1                             0.0                      0.0   \n",
      "2                             0.0                      0.0   \n",
      "3                             0.0                      0.0   \n",
      "4                             0.0                      0.0   \n",
      "\n",
      "   bat_team_Rajasthan Royals  bat_team_Royal Challengers Bangalore  \\\n",
      "0                        0.0                                   0.0   \n",
      "1                        0.0                                   0.0   \n",
      "2                        0.0                                   0.0   \n",
      "3                        0.0                                   0.0   \n",
      "4                        0.0                                   0.0   \n",
      "\n",
      "   bat_team_Sunrisers Hyderabad  bowl_team_Delhi Daredevils  \\\n",
      "0                           1.0                         0.0   \n",
      "1                           1.0                         0.0   \n",
      "2                           1.0                         0.0   \n",
      "3                           1.0                         0.0   \n",
      "4                           1.0                         0.0   \n",
      "\n",
      "   bowl_team_Kings XI Punjab  bowl_team_Kolkata Knight Riders  \\\n",
      "0                        0.0                              0.0   \n",
      "1                        0.0                              0.0   \n",
      "2                        0.0                              0.0   \n",
      "3                        0.0                              0.0   \n",
      "4                        0.0                              0.0   \n",
      "\n",
      "   bowl_team_Mumbai Indians  bowl_team_Rajasthan Royals  \\\n",
      "0                       0.0                         0.0   \n",
      "1                       0.0                         0.0   \n",
      "2                       0.0                         0.0   \n",
      "3                       0.0                         0.0   \n",
      "4                       0.0                         0.0   \n",
      "\n",
      "   bowl_team_Royal Challengers Bangalore  bowl_team_Sunrisers Hyderabad  \n",
      "0                                    1.0                            0.0  \n",
      "1                                    1.0                            0.0  \n",
      "2                                    1.0                            0.0  \n",
      "3                                    1.0                            0.0  \n",
      "4                                    1.0                            0.0  \n",
      "X_train_encoded shape: (37330, 19)\n",
      "X_test_encoded shape: (2778, 19)\n",
      "y_train shape: (37330,)\n",
      "y_test shape: (2778,)\n"
     ]
    }
   ],
   "source": [
    "# Splitting the data into train and test set based on the year\n",
    "X_train = df.drop(labels='total', axis=1)[df['date'].dt.year <= 2016]\n",
    "X_test = df.drop(labels='total', axis=1)[df['date'].dt.year >= 2017]\n",
    "\n",
    "y_train = df[df['date'].dt.year <= 2016]['total'].values\n",
    "y_test = df[df['date'].dt.year >= 2017]['total'].values\n",
    "\n",
    "# Removing the 'date' column\n",
    "X_train.drop(labels='date', axis=True, inplace=True)\n",
    "X_test.drop(labels='date', axis=True, inplace=True)\n",
    "\n",
    "# Specify categorical columns\n",
    "categorical_columns = ['bat_team', 'bowl_team']\n",
    "\n",
    "# Initialize OneHotEncoder\n",
    "encoder = OneHotEncoder(sparse=False, drop='first')  # sparse=False to return a dense array, drop='first' to avoid dummy variable trap\n",
    "\n",
    "# Fit and transform the training data\n",
    "encoded_train_array = encoder.fit_transform(X_train[categorical_columns])\n",
    "\n",
    "# Transform the testing data\n",
    "encoded_test_array = encoder.transform(X_test[categorical_columns])\n",
    "\n",
    "# Convert the encoded arrays to DataFrames\n",
    "encoded_train_df = pd.DataFrame(encoded_train_array, columns=encoder.get_feature_names_out(categorical_columns))\n",
    "encoded_test_df = pd.DataFrame(encoded_test_array, columns=encoder.get_feature_names_out(categorical_columns))\n",
    "\n",
    "# Combine encoded DataFrames with non-categorical DataFrames\n",
    "X_train_non_categorical = X_train.drop(categorical_columns, axis=1).reset_index(drop=True)\n",
    "X_test_non_categorical = X_test.drop(categorical_columns, axis=1).reset_index(drop=True)\n",
    "\n",
    "# Resetting indices to avoid misalignment issues\n",
    "encoded_train_df.reset_index(drop=True, inplace=True)\n",
    "encoded_test_df.reset_index(drop=True, inplace=True)\n",
    "\n",
    "# Concatenate the DataFrames\n",
    "X_train_encoded = pd.concat([X_train_non_categorical, encoded_train_df], axis=1)\n",
    "X_test_encoded = pd.concat([X_test_non_categorical, encoded_test_df], axis=1)\n",
    "\n",
    "# Check for NaN values\n",
    "print(X_train_encoded.isna().sum())\n",
    "print(X_test_encoded.isna().sum())\n",
    "\n",
    "# Display the encoded DataFrames\n",
    "print(X_train_encoded.head())\n",
    "print(X_test_encoded.head())\n",
    "\n",
    "# Display the shapes to verify everything is correct\n",
    "print(\"X_train_encoded shape:\", X_train_encoded.shape)\n",
    "print(\"X_test_encoded shape:\", X_test_encoded.shape)\n",
    "print(\"y_train shape:\", y_train.shape)\n",
    "print(\"y_test shape:\", y_test.shape)\n",
    "\n",
    "X_train = X_train_encoded.copy()\n",
    "X_test = X_test_encoded.copy()"
   ]
  },
  {
   "cell_type": "markdown",
   "id": "e639d627-8126-491e-99f0-3da6754df75d",
   "metadata": {},
   "source": [
    "## Model Building \n",
    "I will experiment with different algorithms, they are as follows:\n",
    "- Linear Regression\n",
    "- Decision Tree Regression\n",
    "- Random Forest Regression\n",
    "\n",
    "- ---- Boosting Algorithm ----\n",
    "- Adaptive Boosting (AdaBoost Algorithm)\n",
    "\n",
    "## Linear Regression "
   ]
  },
  {
   "cell_type": "code",
   "execution_count": 127,
   "id": "0efcded2-fd09-4cbc-a407-942081e88c79",
   "metadata": {},
   "outputs": [
    {
     "data": {
      "text/html": [
       "<div>\n",
       "<style scoped>\n",
       "    .dataframe tbody tr th:only-of-type {\n",
       "        vertical-align: middle;\n",
       "    }\n",
       "\n",
       "    .dataframe tbody tr th {\n",
       "        vertical-align: top;\n",
       "    }\n",
       "\n",
       "    .dataframe thead th {\n",
       "        text-align: right;\n",
       "    }\n",
       "</style>\n",
       "<table border=\"1\" class=\"dataframe\">\n",
       "  <thead>\n",
       "    <tr style=\"text-align: right;\">\n",
       "      <th></th>\n",
       "      <th>runs</th>\n",
       "      <th>wickets</th>\n",
       "      <th>overs</th>\n",
       "      <th>runs_last_5</th>\n",
       "      <th>wickets_last_5</th>\n",
       "      <th>bat_team_Delhi Daredevils</th>\n",
       "      <th>bat_team_Kings XI Punjab</th>\n",
       "      <th>bat_team_Kolkata Knight Riders</th>\n",
       "      <th>bat_team_Mumbai Indians</th>\n",
       "      <th>bat_team_Rajasthan Royals</th>\n",
       "      <th>bat_team_Royal Challengers Bangalore</th>\n",
       "      <th>bat_team_Sunrisers Hyderabad</th>\n",
       "      <th>bowl_team_Delhi Daredevils</th>\n",
       "      <th>bowl_team_Kings XI Punjab</th>\n",
       "      <th>bowl_team_Kolkata Knight Riders</th>\n",
       "      <th>bowl_team_Mumbai Indians</th>\n",
       "      <th>bowl_team_Rajasthan Royals</th>\n",
       "      <th>bowl_team_Royal Challengers Bangalore</th>\n",
       "      <th>bowl_team_Sunrisers Hyderabad</th>\n",
       "    </tr>\n",
       "  </thead>\n",
       "  <tbody>\n",
       "    <tr>\n",
       "      <th>0</th>\n",
       "      <td>61</td>\n",
       "      <td>0</td>\n",
       "      <td>5.1</td>\n",
       "      <td>59</td>\n",
       "      <td>0</td>\n",
       "      <td>0.0</td>\n",
       "      <td>0.0</td>\n",
       "      <td>1.0</td>\n",
       "      <td>0.0</td>\n",
       "      <td>0.0</td>\n",
       "      <td>0.0</td>\n",
       "      <td>0.0</td>\n",
       "      <td>0.0</td>\n",
       "      <td>0.0</td>\n",
       "      <td>0.0</td>\n",
       "      <td>0.0</td>\n",
       "      <td>0.0</td>\n",
       "      <td>1.0</td>\n",
       "      <td>0.0</td>\n",
       "    </tr>\n",
       "    <tr>\n",
       "      <th>1</th>\n",
       "      <td>61</td>\n",
       "      <td>1</td>\n",
       "      <td>5.2</td>\n",
       "      <td>59</td>\n",
       "      <td>1</td>\n",
       "      <td>0.0</td>\n",
       "      <td>0.0</td>\n",
       "      <td>1.0</td>\n",
       "      <td>0.0</td>\n",
       "      <td>0.0</td>\n",
       "      <td>0.0</td>\n",
       "      <td>0.0</td>\n",
       "      <td>0.0</td>\n",
       "      <td>0.0</td>\n",
       "      <td>0.0</td>\n",
       "      <td>0.0</td>\n",
       "      <td>0.0</td>\n",
       "      <td>1.0</td>\n",
       "      <td>0.0</td>\n",
       "    </tr>\n",
       "    <tr>\n",
       "      <th>2</th>\n",
       "      <td>61</td>\n",
       "      <td>1</td>\n",
       "      <td>5.3</td>\n",
       "      <td>59</td>\n",
       "      <td>1</td>\n",
       "      <td>0.0</td>\n",
       "      <td>0.0</td>\n",
       "      <td>1.0</td>\n",
       "      <td>0.0</td>\n",
       "      <td>0.0</td>\n",
       "      <td>0.0</td>\n",
       "      <td>0.0</td>\n",
       "      <td>0.0</td>\n",
       "      <td>0.0</td>\n",
       "      <td>0.0</td>\n",
       "      <td>0.0</td>\n",
       "      <td>0.0</td>\n",
       "      <td>1.0</td>\n",
       "      <td>0.0</td>\n",
       "    </tr>\n",
       "    <tr>\n",
       "      <th>3</th>\n",
       "      <td>61</td>\n",
       "      <td>1</td>\n",
       "      <td>5.4</td>\n",
       "      <td>59</td>\n",
       "      <td>1</td>\n",
       "      <td>0.0</td>\n",
       "      <td>0.0</td>\n",
       "      <td>1.0</td>\n",
       "      <td>0.0</td>\n",
       "      <td>0.0</td>\n",
       "      <td>0.0</td>\n",
       "      <td>0.0</td>\n",
       "      <td>0.0</td>\n",
       "      <td>0.0</td>\n",
       "      <td>0.0</td>\n",
       "      <td>0.0</td>\n",
       "      <td>0.0</td>\n",
       "      <td>1.0</td>\n",
       "      <td>0.0</td>\n",
       "    </tr>\n",
       "    <tr>\n",
       "      <th>4</th>\n",
       "      <td>61</td>\n",
       "      <td>1</td>\n",
       "      <td>5.5</td>\n",
       "      <td>58</td>\n",
       "      <td>1</td>\n",
       "      <td>0.0</td>\n",
       "      <td>0.0</td>\n",
       "      <td>1.0</td>\n",
       "      <td>0.0</td>\n",
       "      <td>0.0</td>\n",
       "      <td>0.0</td>\n",
       "      <td>0.0</td>\n",
       "      <td>0.0</td>\n",
       "      <td>0.0</td>\n",
       "      <td>0.0</td>\n",
       "      <td>0.0</td>\n",
       "      <td>0.0</td>\n",
       "      <td>1.0</td>\n",
       "      <td>0.0</td>\n",
       "    </tr>\n",
       "    <tr>\n",
       "      <th>...</th>\n",
       "      <td>...</td>\n",
       "      <td>...</td>\n",
       "      <td>...</td>\n",
       "      <td>...</td>\n",
       "      <td>...</td>\n",
       "      <td>...</td>\n",
       "      <td>...</td>\n",
       "      <td>...</td>\n",
       "      <td>...</td>\n",
       "      <td>...</td>\n",
       "      <td>...</td>\n",
       "      <td>...</td>\n",
       "      <td>...</td>\n",
       "      <td>...</td>\n",
       "      <td>...</td>\n",
       "      <td>...</td>\n",
       "      <td>...</td>\n",
       "      <td>...</td>\n",
       "      <td>...</td>\n",
       "    </tr>\n",
       "    <tr>\n",
       "      <th>37325</th>\n",
       "      <td>194</td>\n",
       "      <td>7</td>\n",
       "      <td>19.2</td>\n",
       "      <td>54</td>\n",
       "      <td>4</td>\n",
       "      <td>0.0</td>\n",
       "      <td>0.0</td>\n",
       "      <td>0.0</td>\n",
       "      <td>0.0</td>\n",
       "      <td>0.0</td>\n",
       "      <td>0.0</td>\n",
       "      <td>1.0</td>\n",
       "      <td>0.0</td>\n",
       "      <td>0.0</td>\n",
       "      <td>0.0</td>\n",
       "      <td>0.0</td>\n",
       "      <td>0.0</td>\n",
       "      <td>1.0</td>\n",
       "      <td>0.0</td>\n",
       "    </tr>\n",
       "    <tr>\n",
       "      <th>37326</th>\n",
       "      <td>200</td>\n",
       "      <td>7</td>\n",
       "      <td>19.3</td>\n",
       "      <td>56</td>\n",
       "      <td>4</td>\n",
       "      <td>0.0</td>\n",
       "      <td>0.0</td>\n",
       "      <td>0.0</td>\n",
       "      <td>0.0</td>\n",
       "      <td>0.0</td>\n",
       "      <td>0.0</td>\n",
       "      <td>1.0</td>\n",
       "      <td>0.0</td>\n",
       "      <td>0.0</td>\n",
       "      <td>0.0</td>\n",
       "      <td>0.0</td>\n",
       "      <td>0.0</td>\n",
       "      <td>1.0</td>\n",
       "      <td>0.0</td>\n",
       "    </tr>\n",
       "    <tr>\n",
       "      <th>37327</th>\n",
       "      <td>201</td>\n",
       "      <td>7</td>\n",
       "      <td>19.4</td>\n",
       "      <td>56</td>\n",
       "      <td>4</td>\n",
       "      <td>0.0</td>\n",
       "      <td>0.0</td>\n",
       "      <td>0.0</td>\n",
       "      <td>0.0</td>\n",
       "      <td>0.0</td>\n",
       "      <td>0.0</td>\n",
       "      <td>1.0</td>\n",
       "      <td>0.0</td>\n",
       "      <td>0.0</td>\n",
       "      <td>0.0</td>\n",
       "      <td>0.0</td>\n",
       "      <td>0.0</td>\n",
       "      <td>1.0</td>\n",
       "      <td>0.0</td>\n",
       "    </tr>\n",
       "    <tr>\n",
       "      <th>37328</th>\n",
       "      <td>202</td>\n",
       "      <td>7</td>\n",
       "      <td>19.5</td>\n",
       "      <td>57</td>\n",
       "      <td>4</td>\n",
       "      <td>0.0</td>\n",
       "      <td>0.0</td>\n",
       "      <td>0.0</td>\n",
       "      <td>0.0</td>\n",
       "      <td>0.0</td>\n",
       "      <td>0.0</td>\n",
       "      <td>1.0</td>\n",
       "      <td>0.0</td>\n",
       "      <td>0.0</td>\n",
       "      <td>0.0</td>\n",
       "      <td>0.0</td>\n",
       "      <td>0.0</td>\n",
       "      <td>1.0</td>\n",
       "      <td>0.0</td>\n",
       "    </tr>\n",
       "    <tr>\n",
       "      <th>37329</th>\n",
       "      <td>208</td>\n",
       "      <td>7</td>\n",
       "      <td>19.6</td>\n",
       "      <td>62</td>\n",
       "      <td>4</td>\n",
       "      <td>0.0</td>\n",
       "      <td>0.0</td>\n",
       "      <td>0.0</td>\n",
       "      <td>0.0</td>\n",
       "      <td>0.0</td>\n",
       "      <td>0.0</td>\n",
       "      <td>1.0</td>\n",
       "      <td>0.0</td>\n",
       "      <td>0.0</td>\n",
       "      <td>0.0</td>\n",
       "      <td>0.0</td>\n",
       "      <td>0.0</td>\n",
       "      <td>1.0</td>\n",
       "      <td>0.0</td>\n",
       "    </tr>\n",
       "  </tbody>\n",
       "</table>\n",
       "<p>37330 rows × 19 columns</p>\n",
       "</div>"
      ],
      "text/plain": [
       "       runs  wickets  overs  runs_last_5  wickets_last_5  \\\n",
       "0        61        0    5.1           59               0   \n",
       "1        61        1    5.2           59               1   \n",
       "2        61        1    5.3           59               1   \n",
       "3        61        1    5.4           59               1   \n",
       "4        61        1    5.5           58               1   \n",
       "...     ...      ...    ...          ...             ...   \n",
       "37325   194        7   19.2           54               4   \n",
       "37326   200        7   19.3           56               4   \n",
       "37327   201        7   19.4           56               4   \n",
       "37328   202        7   19.5           57               4   \n",
       "37329   208        7   19.6           62               4   \n",
       "\n",
       "       bat_team_Delhi Daredevils  bat_team_Kings XI Punjab  \\\n",
       "0                            0.0                       0.0   \n",
       "1                            0.0                       0.0   \n",
       "2                            0.0                       0.0   \n",
       "3                            0.0                       0.0   \n",
       "4                            0.0                       0.0   \n",
       "...                          ...                       ...   \n",
       "37325                        0.0                       0.0   \n",
       "37326                        0.0                       0.0   \n",
       "37327                        0.0                       0.0   \n",
       "37328                        0.0                       0.0   \n",
       "37329                        0.0                       0.0   \n",
       "\n",
       "       bat_team_Kolkata Knight Riders  bat_team_Mumbai Indians  \\\n",
       "0                                 1.0                      0.0   \n",
       "1                                 1.0                      0.0   \n",
       "2                                 1.0                      0.0   \n",
       "3                                 1.0                      0.0   \n",
       "4                                 1.0                      0.0   \n",
       "...                               ...                      ...   \n",
       "37325                             0.0                      0.0   \n",
       "37326                             0.0                      0.0   \n",
       "37327                             0.0                      0.0   \n",
       "37328                             0.0                      0.0   \n",
       "37329                             0.0                      0.0   \n",
       "\n",
       "       bat_team_Rajasthan Royals  bat_team_Royal Challengers Bangalore  \\\n",
       "0                            0.0                                   0.0   \n",
       "1                            0.0                                   0.0   \n",
       "2                            0.0                                   0.0   \n",
       "3                            0.0                                   0.0   \n",
       "4                            0.0                                   0.0   \n",
       "...                          ...                                   ...   \n",
       "37325                        0.0                                   0.0   \n",
       "37326                        0.0                                   0.0   \n",
       "37327                        0.0                                   0.0   \n",
       "37328                        0.0                                   0.0   \n",
       "37329                        0.0                                   0.0   \n",
       "\n",
       "       bat_team_Sunrisers Hyderabad  bowl_team_Delhi Daredevils  \\\n",
       "0                               0.0                         0.0   \n",
       "1                               0.0                         0.0   \n",
       "2                               0.0                         0.0   \n",
       "3                               0.0                         0.0   \n",
       "4                               0.0                         0.0   \n",
       "...                             ...                         ...   \n",
       "37325                           1.0                         0.0   \n",
       "37326                           1.0                         0.0   \n",
       "37327                           1.0                         0.0   \n",
       "37328                           1.0                         0.0   \n",
       "37329                           1.0                         0.0   \n",
       "\n",
       "       bowl_team_Kings XI Punjab  bowl_team_Kolkata Knight Riders  \\\n",
       "0                            0.0                              0.0   \n",
       "1                            0.0                              0.0   \n",
       "2                            0.0                              0.0   \n",
       "3                            0.0                              0.0   \n",
       "4                            0.0                              0.0   \n",
       "...                          ...                              ...   \n",
       "37325                        0.0                              0.0   \n",
       "37326                        0.0                              0.0   \n",
       "37327                        0.0                              0.0   \n",
       "37328                        0.0                              0.0   \n",
       "37329                        0.0                              0.0   \n",
       "\n",
       "       bowl_team_Mumbai Indians  bowl_team_Rajasthan Royals  \\\n",
       "0                           0.0                         0.0   \n",
       "1                           0.0                         0.0   \n",
       "2                           0.0                         0.0   \n",
       "3                           0.0                         0.0   \n",
       "4                           0.0                         0.0   \n",
       "...                         ...                         ...   \n",
       "37325                       0.0                         0.0   \n",
       "37326                       0.0                         0.0   \n",
       "37327                       0.0                         0.0   \n",
       "37328                       0.0                         0.0   \n",
       "37329                       0.0                         0.0   \n",
       "\n",
       "       bowl_team_Royal Challengers Bangalore  bowl_team_Sunrisers Hyderabad  \n",
       "0                                        1.0                            0.0  \n",
       "1                                        1.0                            0.0  \n",
       "2                                        1.0                            0.0  \n",
       "3                                        1.0                            0.0  \n",
       "4                                        1.0                            0.0  \n",
       "...                                      ...                            ...  \n",
       "37325                                    1.0                            0.0  \n",
       "37326                                    1.0                            0.0  \n",
       "37327                                    1.0                            0.0  \n",
       "37328                                    1.0                            0.0  \n",
       "37329                                    1.0                            0.0  \n",
       "\n",
       "[37330 rows x 19 columns]"
      ]
     },
     "execution_count": 127,
     "metadata": {},
     "output_type": "execute_result"
    }
   ],
   "source": [
    "X_train"
   ]
  },
  {
   "cell_type": "code",
   "execution_count": 128,
   "id": "f249307e-4542-4c01-9374-446ee4b89bad",
   "metadata": {},
   "outputs": [
    {
     "data": {
      "text/html": [
       "<style>#sk-container-id-1 {color: black;}#sk-container-id-1 pre{padding: 0;}#sk-container-id-1 div.sk-toggleable {background-color: white;}#sk-container-id-1 label.sk-toggleable__label {cursor: pointer;display: block;width: 100%;margin-bottom: 0;padding: 0.3em;box-sizing: border-box;text-align: center;}#sk-container-id-1 label.sk-toggleable__label-arrow:before {content: \"▸\";float: left;margin-right: 0.25em;color: #696969;}#sk-container-id-1 label.sk-toggleable__label-arrow:hover:before {color: black;}#sk-container-id-1 div.sk-estimator:hover label.sk-toggleable__label-arrow:before {color: black;}#sk-container-id-1 div.sk-toggleable__content {max-height: 0;max-width: 0;overflow: hidden;text-align: left;background-color: #f0f8ff;}#sk-container-id-1 div.sk-toggleable__content pre {margin: 0.2em;color: black;border-radius: 0.25em;background-color: #f0f8ff;}#sk-container-id-1 input.sk-toggleable__control:checked~div.sk-toggleable__content {max-height: 200px;max-width: 100%;overflow: auto;}#sk-container-id-1 input.sk-toggleable__control:checked~label.sk-toggleable__label-arrow:before {content: \"▾\";}#sk-container-id-1 div.sk-estimator input.sk-toggleable__control:checked~label.sk-toggleable__label {background-color: #d4ebff;}#sk-container-id-1 div.sk-label input.sk-toggleable__control:checked~label.sk-toggleable__label {background-color: #d4ebff;}#sk-container-id-1 input.sk-hidden--visually {border: 0;clip: rect(1px 1px 1px 1px);clip: rect(1px, 1px, 1px, 1px);height: 1px;margin: -1px;overflow: hidden;padding: 0;position: absolute;width: 1px;}#sk-container-id-1 div.sk-estimator {font-family: monospace;background-color: #f0f8ff;border: 1px dotted black;border-radius: 0.25em;box-sizing: border-box;margin-bottom: 0.5em;}#sk-container-id-1 div.sk-estimator:hover {background-color: #d4ebff;}#sk-container-id-1 div.sk-parallel-item::after {content: \"\";width: 100%;border-bottom: 1px solid gray;flex-grow: 1;}#sk-container-id-1 div.sk-label:hover label.sk-toggleable__label {background-color: #d4ebff;}#sk-container-id-1 div.sk-serial::before {content: \"\";position: absolute;border-left: 1px solid gray;box-sizing: border-box;top: 0;bottom: 0;left: 50%;z-index: 0;}#sk-container-id-1 div.sk-serial {display: flex;flex-direction: column;align-items: center;background-color: white;padding-right: 0.2em;padding-left: 0.2em;position: relative;}#sk-container-id-1 div.sk-item {position: relative;z-index: 1;}#sk-container-id-1 div.sk-parallel {display: flex;align-items: stretch;justify-content: center;background-color: white;position: relative;}#sk-container-id-1 div.sk-item::before, #sk-container-id-1 div.sk-parallel-item::before {content: \"\";position: absolute;border-left: 1px solid gray;box-sizing: border-box;top: 0;bottom: 0;left: 50%;z-index: -1;}#sk-container-id-1 div.sk-parallel-item {display: flex;flex-direction: column;z-index: 1;position: relative;background-color: white;}#sk-container-id-1 div.sk-parallel-item:first-child::after {align-self: flex-end;width: 50%;}#sk-container-id-1 div.sk-parallel-item:last-child::after {align-self: flex-start;width: 50%;}#sk-container-id-1 div.sk-parallel-item:only-child::after {width: 0;}#sk-container-id-1 div.sk-dashed-wrapped {border: 1px dashed gray;margin: 0 0.4em 0.5em 0.4em;box-sizing: border-box;padding-bottom: 0.4em;background-color: white;}#sk-container-id-1 div.sk-label label {font-family: monospace;font-weight: bold;display: inline-block;line-height: 1.2em;}#sk-container-id-1 div.sk-label-container {text-align: center;}#sk-container-id-1 div.sk-container {/* jupyter's `normalize.less` sets `[hidden] { display: none; }` but bootstrap.min.css set `[hidden] { display: none !important; }` so we also need the `!important` here to be able to override the default hidden behavior on the sphinx rendered scikit-learn.org. See: https://github.com/scikit-learn/scikit-learn/issues/21755 */display: inline-block !important;position: relative;}#sk-container-id-1 div.sk-text-repr-fallback {display: none;}</style><div id=\"sk-container-id-1\" class=\"sk-top-container\"><div class=\"sk-text-repr-fallback\"><pre>LinearRegression()</pre><b>In a Jupyter environment, please rerun this cell to show the HTML representation or trust the notebook. <br />On GitHub, the HTML representation is unable to render, please try loading this page with nbviewer.org.</b></div><div class=\"sk-container\" hidden><div class=\"sk-item\"><div class=\"sk-estimator sk-toggleable\"><input class=\"sk-toggleable__control sk-hidden--visually\" id=\"sk-estimator-id-1\" type=\"checkbox\" checked><label for=\"sk-estimator-id-1\" class=\"sk-toggleable__label sk-toggleable__label-arrow\">LinearRegression</label><div class=\"sk-toggleable__content\"><pre>LinearRegression()</pre></div></div></div></div></div>"
      ],
      "text/plain": [
       "LinearRegression()"
      ]
     },
     "execution_count": 128,
     "metadata": {},
     "output_type": "execute_result"
    }
   ],
   "source": [
    "# Linear Regression \n",
    "from sklearn.linear_model import LinearRegression\n",
    "linear_regressor = LinearRegression()\n",
    "linear_regressor.fit(X_train, y_train)"
   ]
  },
  {
   "cell_type": "code",
   "execution_count": 129,
   "id": "66c78305-4576-4abf-a7b7-64b3b1352093",
   "metadata": {},
   "outputs": [],
   "source": [
    "# Predicting results \n",
    "y_pred_lr = linear_regressor.predict(X_test)"
   ]
  },
  {
   "cell_type": "code",
   "execution_count": 130,
   "id": "03573b03-2d5f-4476-b597-73663e91f2ef",
   "metadata": {},
   "outputs": [
    {
     "name": "stdout",
     "output_type": "stream",
     "text": [
      "---- Linear Regression - model Evaluation ---- \n",
      "Mean Absolute Error (MAE): 12.118617546193335\n",
      "Mean Square Error (MSE): 251.00792310417137\n",
      "Root Mean Squared Error (RMSE): 15.84322956673201\n"
     ]
    }
   ],
   "source": [
    "# Linear Regression - Model Evaluation \n",
    "from sklearn.metrics import mean_absolute_error as mae, mean_squared_error as mse, accuracy_score\n",
    "print(\"---- Linear Regression - model Evaluation ---- \")\n",
    "print(\"Mean Absolute Error (MAE): {}\".format(mae(y_test, y_pred_lr)))\n",
    "print(\"Mean Square Error (MSE): {}\".format(mse(y_test, y_pred_lr)))\n",
    "print(\"Root Mean Squared Error (RMSE): {}\".format(np.sqrt(mse(y_test, y_pred_lr))))"
   ]
  },
  {
   "cell_type": "markdown",
   "id": "3408426d-e36e-450f-bb17-bcdcbce4c121",
   "metadata": {},
   "source": [
    "## Decision Tree"
   ]
  },
  {
   "cell_type": "code",
   "execution_count": 131,
   "id": "d89037e0-618d-4405-a130-e0896c51e2da",
   "metadata": {},
   "outputs": [
    {
     "data": {
      "text/html": [
       "<style>#sk-container-id-2 {color: black;}#sk-container-id-2 pre{padding: 0;}#sk-container-id-2 div.sk-toggleable {background-color: white;}#sk-container-id-2 label.sk-toggleable__label {cursor: pointer;display: block;width: 100%;margin-bottom: 0;padding: 0.3em;box-sizing: border-box;text-align: center;}#sk-container-id-2 label.sk-toggleable__label-arrow:before {content: \"▸\";float: left;margin-right: 0.25em;color: #696969;}#sk-container-id-2 label.sk-toggleable__label-arrow:hover:before {color: black;}#sk-container-id-2 div.sk-estimator:hover label.sk-toggleable__label-arrow:before {color: black;}#sk-container-id-2 div.sk-toggleable__content {max-height: 0;max-width: 0;overflow: hidden;text-align: left;background-color: #f0f8ff;}#sk-container-id-2 div.sk-toggleable__content pre {margin: 0.2em;color: black;border-radius: 0.25em;background-color: #f0f8ff;}#sk-container-id-2 input.sk-toggleable__control:checked~div.sk-toggleable__content {max-height: 200px;max-width: 100%;overflow: auto;}#sk-container-id-2 input.sk-toggleable__control:checked~label.sk-toggleable__label-arrow:before {content: \"▾\";}#sk-container-id-2 div.sk-estimator input.sk-toggleable__control:checked~label.sk-toggleable__label {background-color: #d4ebff;}#sk-container-id-2 div.sk-label input.sk-toggleable__control:checked~label.sk-toggleable__label {background-color: #d4ebff;}#sk-container-id-2 input.sk-hidden--visually {border: 0;clip: rect(1px 1px 1px 1px);clip: rect(1px, 1px, 1px, 1px);height: 1px;margin: -1px;overflow: hidden;padding: 0;position: absolute;width: 1px;}#sk-container-id-2 div.sk-estimator {font-family: monospace;background-color: #f0f8ff;border: 1px dotted black;border-radius: 0.25em;box-sizing: border-box;margin-bottom: 0.5em;}#sk-container-id-2 div.sk-estimator:hover {background-color: #d4ebff;}#sk-container-id-2 div.sk-parallel-item::after {content: \"\";width: 100%;border-bottom: 1px solid gray;flex-grow: 1;}#sk-container-id-2 div.sk-label:hover label.sk-toggleable__label {background-color: #d4ebff;}#sk-container-id-2 div.sk-serial::before {content: \"\";position: absolute;border-left: 1px solid gray;box-sizing: border-box;top: 0;bottom: 0;left: 50%;z-index: 0;}#sk-container-id-2 div.sk-serial {display: flex;flex-direction: column;align-items: center;background-color: white;padding-right: 0.2em;padding-left: 0.2em;position: relative;}#sk-container-id-2 div.sk-item {position: relative;z-index: 1;}#sk-container-id-2 div.sk-parallel {display: flex;align-items: stretch;justify-content: center;background-color: white;position: relative;}#sk-container-id-2 div.sk-item::before, #sk-container-id-2 div.sk-parallel-item::before {content: \"\";position: absolute;border-left: 1px solid gray;box-sizing: border-box;top: 0;bottom: 0;left: 50%;z-index: -1;}#sk-container-id-2 div.sk-parallel-item {display: flex;flex-direction: column;z-index: 1;position: relative;background-color: white;}#sk-container-id-2 div.sk-parallel-item:first-child::after {align-self: flex-end;width: 50%;}#sk-container-id-2 div.sk-parallel-item:last-child::after {align-self: flex-start;width: 50%;}#sk-container-id-2 div.sk-parallel-item:only-child::after {width: 0;}#sk-container-id-2 div.sk-dashed-wrapped {border: 1px dashed gray;margin: 0 0.4em 0.5em 0.4em;box-sizing: border-box;padding-bottom: 0.4em;background-color: white;}#sk-container-id-2 div.sk-label label {font-family: monospace;font-weight: bold;display: inline-block;line-height: 1.2em;}#sk-container-id-2 div.sk-label-container {text-align: center;}#sk-container-id-2 div.sk-container {/* jupyter's `normalize.less` sets `[hidden] { display: none; }` but bootstrap.min.css set `[hidden] { display: none !important; }` so we also need the `!important` here to be able to override the default hidden behavior on the sphinx rendered scikit-learn.org. See: https://github.com/scikit-learn/scikit-learn/issues/21755 */display: inline-block !important;position: relative;}#sk-container-id-2 div.sk-text-repr-fallback {display: none;}</style><div id=\"sk-container-id-2\" class=\"sk-top-container\"><div class=\"sk-text-repr-fallback\"><pre>DecisionTreeRegressor()</pre><b>In a Jupyter environment, please rerun this cell to show the HTML representation or trust the notebook. <br />On GitHub, the HTML representation is unable to render, please try loading this page with nbviewer.org.</b></div><div class=\"sk-container\" hidden><div class=\"sk-item\"><div class=\"sk-estimator sk-toggleable\"><input class=\"sk-toggleable__control sk-hidden--visually\" id=\"sk-estimator-id-2\" type=\"checkbox\" checked><label for=\"sk-estimator-id-2\" class=\"sk-toggleable__label sk-toggleable__label-arrow\">DecisionTreeRegressor</label><div class=\"sk-toggleable__content\"><pre>DecisionTreeRegressor()</pre></div></div></div></div></div>"
      ],
      "text/plain": [
       "DecisionTreeRegressor()"
      ]
     },
     "execution_count": 131,
     "metadata": {},
     "output_type": "execute_result"
    }
   ],
   "source": [
    "# Decision Tree Regression Model \n",
    "from sklearn.tree import DecisionTreeRegressor\n",
    "decision_regressor = DecisionTreeRegressor()\n",
    "decision_regressor.fit(X_train, y_train)"
   ]
  },
  {
   "cell_type": "code",
   "execution_count": 132,
   "id": "53d3db0f-2788-480e-8c1f-41c8d8f1ff7f",
   "metadata": {},
   "outputs": [],
   "source": [
    "# Predicting results \n",
    "y_pred_dt = decision_regressor.predict(X_test)"
   ]
  },
  {
   "cell_type": "code",
   "execution_count": 134,
   "id": "ae0dfeed-1cbe-41b3-9971-a0d16e071727",
   "metadata": {},
   "outputs": [
    {
     "name": "stdout",
     "output_type": "stream",
     "text": [
      "---- Linear Regression - model Evaluation ---- \n",
      "Mean Absolute Error (MAE): 16.125989920806337\n",
      "Mean Square Error (MSE): 478.5370770338373\n",
      "Root Mean Squared Error (RMSE): 21.875490326706675\n"
     ]
    }
   ],
   "source": [
    "# Decision Tree  Regression - Model Evaluation \n",
    "\n",
    "print(\"---- Linear Regression - model Evaluation ---- \")\n",
    "print(\"Mean Absolute Error (MAE): {}\".format(mae(y_test, y_pred_dt)))\n",
    "print(\"Mean Square Error (MSE): {}\".format(mse(y_test, y_pred_dt)))\n",
    "print(\"Root Mean Squared Error (RMSE): {}\".format(np.sqrt(mse(y_test, y_pred_dt))))"
   ]
  },
  {
   "cell_type": "markdown",
   "id": "b9e5e81b-013e-4437-9759-8ec7dd1e51ad",
   "metadata": {},
   "source": [
    "## Random Forest "
   ]
  },
  {
   "cell_type": "code",
   "execution_count": 137,
   "id": "735ce186-aec6-4e0e-ad05-7cdd98cf50e8",
   "metadata": {},
   "outputs": [
    {
     "data": {
      "text/html": [
       "<style>#sk-container-id-3 {color: black;}#sk-container-id-3 pre{padding: 0;}#sk-container-id-3 div.sk-toggleable {background-color: white;}#sk-container-id-3 label.sk-toggleable__label {cursor: pointer;display: block;width: 100%;margin-bottom: 0;padding: 0.3em;box-sizing: border-box;text-align: center;}#sk-container-id-3 label.sk-toggleable__label-arrow:before {content: \"▸\";float: left;margin-right: 0.25em;color: #696969;}#sk-container-id-3 label.sk-toggleable__label-arrow:hover:before {color: black;}#sk-container-id-3 div.sk-estimator:hover label.sk-toggleable__label-arrow:before {color: black;}#sk-container-id-3 div.sk-toggleable__content {max-height: 0;max-width: 0;overflow: hidden;text-align: left;background-color: #f0f8ff;}#sk-container-id-3 div.sk-toggleable__content pre {margin: 0.2em;color: black;border-radius: 0.25em;background-color: #f0f8ff;}#sk-container-id-3 input.sk-toggleable__control:checked~div.sk-toggleable__content {max-height: 200px;max-width: 100%;overflow: auto;}#sk-container-id-3 input.sk-toggleable__control:checked~label.sk-toggleable__label-arrow:before {content: \"▾\";}#sk-container-id-3 div.sk-estimator input.sk-toggleable__control:checked~label.sk-toggleable__label {background-color: #d4ebff;}#sk-container-id-3 div.sk-label input.sk-toggleable__control:checked~label.sk-toggleable__label {background-color: #d4ebff;}#sk-container-id-3 input.sk-hidden--visually {border: 0;clip: rect(1px 1px 1px 1px);clip: rect(1px, 1px, 1px, 1px);height: 1px;margin: -1px;overflow: hidden;padding: 0;position: absolute;width: 1px;}#sk-container-id-3 div.sk-estimator {font-family: monospace;background-color: #f0f8ff;border: 1px dotted black;border-radius: 0.25em;box-sizing: border-box;margin-bottom: 0.5em;}#sk-container-id-3 div.sk-estimator:hover {background-color: #d4ebff;}#sk-container-id-3 div.sk-parallel-item::after {content: \"\";width: 100%;border-bottom: 1px solid gray;flex-grow: 1;}#sk-container-id-3 div.sk-label:hover label.sk-toggleable__label {background-color: #d4ebff;}#sk-container-id-3 div.sk-serial::before {content: \"\";position: absolute;border-left: 1px solid gray;box-sizing: border-box;top: 0;bottom: 0;left: 50%;z-index: 0;}#sk-container-id-3 div.sk-serial {display: flex;flex-direction: column;align-items: center;background-color: white;padding-right: 0.2em;padding-left: 0.2em;position: relative;}#sk-container-id-3 div.sk-item {position: relative;z-index: 1;}#sk-container-id-3 div.sk-parallel {display: flex;align-items: stretch;justify-content: center;background-color: white;position: relative;}#sk-container-id-3 div.sk-item::before, #sk-container-id-3 div.sk-parallel-item::before {content: \"\";position: absolute;border-left: 1px solid gray;box-sizing: border-box;top: 0;bottom: 0;left: 50%;z-index: -1;}#sk-container-id-3 div.sk-parallel-item {display: flex;flex-direction: column;z-index: 1;position: relative;background-color: white;}#sk-container-id-3 div.sk-parallel-item:first-child::after {align-self: flex-end;width: 50%;}#sk-container-id-3 div.sk-parallel-item:last-child::after {align-self: flex-start;width: 50%;}#sk-container-id-3 div.sk-parallel-item:only-child::after {width: 0;}#sk-container-id-3 div.sk-dashed-wrapped {border: 1px dashed gray;margin: 0 0.4em 0.5em 0.4em;box-sizing: border-box;padding-bottom: 0.4em;background-color: white;}#sk-container-id-3 div.sk-label label {font-family: monospace;font-weight: bold;display: inline-block;line-height: 1.2em;}#sk-container-id-3 div.sk-label-container {text-align: center;}#sk-container-id-3 div.sk-container {/* jupyter's `normalize.less` sets `[hidden] { display: none; }` but bootstrap.min.css set `[hidden] { display: none !important; }` so we also need the `!important` here to be able to override the default hidden behavior on the sphinx rendered scikit-learn.org. See: https://github.com/scikit-learn/scikit-learn/issues/21755 */display: inline-block !important;position: relative;}#sk-container-id-3 div.sk-text-repr-fallback {display: none;}</style><div id=\"sk-container-id-3\" class=\"sk-top-container\"><div class=\"sk-text-repr-fallback\"><pre>RandomForestRegressor()</pre><b>In a Jupyter environment, please rerun this cell to show the HTML representation or trust the notebook. <br />On GitHub, the HTML representation is unable to render, please try loading this page with nbviewer.org.</b></div><div class=\"sk-container\" hidden><div class=\"sk-item\"><div class=\"sk-estimator sk-toggleable\"><input class=\"sk-toggleable__control sk-hidden--visually\" id=\"sk-estimator-id-3\" type=\"checkbox\" checked><label for=\"sk-estimator-id-3\" class=\"sk-toggleable__label sk-toggleable__label-arrow\">RandomForestRegressor</label><div class=\"sk-toggleable__content\"><pre>RandomForestRegressor()</pre></div></div></div></div></div>"
      ],
      "text/plain": [
       "RandomForestRegressor()"
      ]
     },
     "execution_count": 137,
     "metadata": {},
     "output_type": "execute_result"
    }
   ],
   "source": [
    "# Random Forest Regression model \n",
    "from sklearn.ensemble import RandomForestRegressor\n",
    "random_regressor = RandomForestRegressor() \n",
    "random_regressor.fit(X_train, y_train)"
   ]
  },
  {
   "cell_type": "code",
   "execution_count": 138,
   "id": "ff0324f9-2c63-4f83-bd6f-a7d8aa7aa371",
   "metadata": {},
   "outputs": [],
   "source": [
    "# Predicting results\n",
    "y_pred_rf = random_regressor.predict(X_test)"
   ]
  },
  {
   "cell_type": "code",
   "execution_count": 139,
   "id": "29331ae9-c9fe-4f79-b035-310f81d48d97",
   "metadata": {},
   "outputs": [
    {
     "name": "stdout",
     "output_type": "stream",
     "text": [
      "---- Linear Regression - model Evaluation ---- \n",
      "Mean Absolute Error (MAE): 13.832550150533411\n",
      "Mean Square Error (MSE): 336.36918786467635\n",
      "Root Mean Squared Error (RMSE): 18.340370439679685\n"
     ]
    }
   ],
   "source": [
    "# Random Forest Regression - Model Evaluation \n",
    "\n",
    "print(\"---- Linear Regression - model Evaluation ---- \")\n",
    "print(\"Mean Absolute Error (MAE): {}\".format(mae(y_test, y_pred_rf)))\n",
    "print(\"Mean Square Error (MSE): {}\".format(mse(y_test, y_pred_rf)))\n",
    "print(\"Root Mean Squared Error (RMSE): {}\".format(np.sqrt(mse(y_test, y_pred_rf))))"
   ]
  },
  {
   "cell_type": "markdown",
   "id": "6a86fe24-81bb-4fa6-9ad0-79feacf4da68",
   "metadata": {},
   "source": [
    "Note: Since Linear regression model performs best as compared to other two, we use this model and boost it's performance using AdaBoost Algorithm\n",
    "## AdaBoost Algorithm"
   ]
  },
  {
   "cell_type": "code",
   "execution_count": 140,
   "id": "bedbd3f0-4f4e-419a-9e70-9729649f8e8c",
   "metadata": {},
   "outputs": [
    {
     "name": "stderr",
     "output_type": "stream",
     "text": [
      "/Users/sanjaymahto/anaconda3/lib/python3.11/site-packages/sklearn/ensemble/_base.py:156: FutureWarning: `base_estimator` was renamed to `estimator` in version 1.2 and will be removed in 1.4.\n",
      "  warnings.warn(\n"
     ]
    },
    {
     "data": {
      "text/html": [
       "<style>#sk-container-id-4 {color: black;}#sk-container-id-4 pre{padding: 0;}#sk-container-id-4 div.sk-toggleable {background-color: white;}#sk-container-id-4 label.sk-toggleable__label {cursor: pointer;display: block;width: 100%;margin-bottom: 0;padding: 0.3em;box-sizing: border-box;text-align: center;}#sk-container-id-4 label.sk-toggleable__label-arrow:before {content: \"▸\";float: left;margin-right: 0.25em;color: #696969;}#sk-container-id-4 label.sk-toggleable__label-arrow:hover:before {color: black;}#sk-container-id-4 div.sk-estimator:hover label.sk-toggleable__label-arrow:before {color: black;}#sk-container-id-4 div.sk-toggleable__content {max-height: 0;max-width: 0;overflow: hidden;text-align: left;background-color: #f0f8ff;}#sk-container-id-4 div.sk-toggleable__content pre {margin: 0.2em;color: black;border-radius: 0.25em;background-color: #f0f8ff;}#sk-container-id-4 input.sk-toggleable__control:checked~div.sk-toggleable__content {max-height: 200px;max-width: 100%;overflow: auto;}#sk-container-id-4 input.sk-toggleable__control:checked~label.sk-toggleable__label-arrow:before {content: \"▾\";}#sk-container-id-4 div.sk-estimator input.sk-toggleable__control:checked~label.sk-toggleable__label {background-color: #d4ebff;}#sk-container-id-4 div.sk-label input.sk-toggleable__control:checked~label.sk-toggleable__label {background-color: #d4ebff;}#sk-container-id-4 input.sk-hidden--visually {border: 0;clip: rect(1px 1px 1px 1px);clip: rect(1px, 1px, 1px, 1px);height: 1px;margin: -1px;overflow: hidden;padding: 0;position: absolute;width: 1px;}#sk-container-id-4 div.sk-estimator {font-family: monospace;background-color: #f0f8ff;border: 1px dotted black;border-radius: 0.25em;box-sizing: border-box;margin-bottom: 0.5em;}#sk-container-id-4 div.sk-estimator:hover {background-color: #d4ebff;}#sk-container-id-4 div.sk-parallel-item::after {content: \"\";width: 100%;border-bottom: 1px solid gray;flex-grow: 1;}#sk-container-id-4 div.sk-label:hover label.sk-toggleable__label {background-color: #d4ebff;}#sk-container-id-4 div.sk-serial::before {content: \"\";position: absolute;border-left: 1px solid gray;box-sizing: border-box;top: 0;bottom: 0;left: 50%;z-index: 0;}#sk-container-id-4 div.sk-serial {display: flex;flex-direction: column;align-items: center;background-color: white;padding-right: 0.2em;padding-left: 0.2em;position: relative;}#sk-container-id-4 div.sk-item {position: relative;z-index: 1;}#sk-container-id-4 div.sk-parallel {display: flex;align-items: stretch;justify-content: center;background-color: white;position: relative;}#sk-container-id-4 div.sk-item::before, #sk-container-id-4 div.sk-parallel-item::before {content: \"\";position: absolute;border-left: 1px solid gray;box-sizing: border-box;top: 0;bottom: 0;left: 50%;z-index: -1;}#sk-container-id-4 div.sk-parallel-item {display: flex;flex-direction: column;z-index: 1;position: relative;background-color: white;}#sk-container-id-4 div.sk-parallel-item:first-child::after {align-self: flex-end;width: 50%;}#sk-container-id-4 div.sk-parallel-item:last-child::after {align-self: flex-start;width: 50%;}#sk-container-id-4 div.sk-parallel-item:only-child::after {width: 0;}#sk-container-id-4 div.sk-dashed-wrapped {border: 1px dashed gray;margin: 0 0.4em 0.5em 0.4em;box-sizing: border-box;padding-bottom: 0.4em;background-color: white;}#sk-container-id-4 div.sk-label label {font-family: monospace;font-weight: bold;display: inline-block;line-height: 1.2em;}#sk-container-id-4 div.sk-label-container {text-align: center;}#sk-container-id-4 div.sk-container {/* jupyter's `normalize.less` sets `[hidden] { display: none; }` but bootstrap.min.css set `[hidden] { display: none !important; }` so we also need the `!important` here to be able to override the default hidden behavior on the sphinx rendered scikit-learn.org. See: https://github.com/scikit-learn/scikit-learn/issues/21755 */display: inline-block !important;position: relative;}#sk-container-id-4 div.sk-text-repr-fallback {display: none;}</style><div id=\"sk-container-id-4\" class=\"sk-top-container\"><div class=\"sk-text-repr-fallback\"><pre>AdaBoostRegressor(base_estimator=LinearRegression(), n_estimators=100)</pre><b>In a Jupyter environment, please rerun this cell to show the HTML representation or trust the notebook. <br />On GitHub, the HTML representation is unable to render, please try loading this page with nbviewer.org.</b></div><div class=\"sk-container\" hidden><div class=\"sk-item sk-dashed-wrapped\"><div class=\"sk-label-container\"><div class=\"sk-label sk-toggleable\"><input class=\"sk-toggleable__control sk-hidden--visually\" id=\"sk-estimator-id-4\" type=\"checkbox\" ><label for=\"sk-estimator-id-4\" class=\"sk-toggleable__label sk-toggleable__label-arrow\">AdaBoostRegressor</label><div class=\"sk-toggleable__content\"><pre>AdaBoostRegressor(base_estimator=LinearRegression(), n_estimators=100)</pre></div></div></div><div class=\"sk-parallel\"><div class=\"sk-parallel-item\"><div class=\"sk-item\"><div class=\"sk-label-container\"><div class=\"sk-label sk-toggleable\"><input class=\"sk-toggleable__control sk-hidden--visually\" id=\"sk-estimator-id-5\" type=\"checkbox\" ><label for=\"sk-estimator-id-5\" class=\"sk-toggleable__label sk-toggleable__label-arrow\">base_estimator: LinearRegression</label><div class=\"sk-toggleable__content\"><pre>LinearRegression()</pre></div></div></div><div class=\"sk-serial\"><div class=\"sk-item\"><div class=\"sk-estimator sk-toggleable\"><input class=\"sk-toggleable__control sk-hidden--visually\" id=\"sk-estimator-id-6\" type=\"checkbox\" ><label for=\"sk-estimator-id-6\" class=\"sk-toggleable__label sk-toggleable__label-arrow\">LinearRegression</label><div class=\"sk-toggleable__content\"><pre>LinearRegression()</pre></div></div></div></div></div></div></div></div></div></div>"
      ],
      "text/plain": [
       "AdaBoostRegressor(base_estimator=LinearRegression(), n_estimators=100)"
      ]
     },
     "execution_count": 140,
     "metadata": {},
     "output_type": "execute_result"
    }
   ],
   "source": [
    "# AdaBoost model using Linear Regression as the base learner \n",
    "from sklearn.ensemble import AdaBoostRegressor\n",
    "adb_regressor = AdaBoostRegressor(base_estimator=linear_regressor, n_estimators=100)\n",
    "adb_regressor.fit(X_train, y_train)"
   ]
  },
  {
   "cell_type": "code",
   "execution_count": 145,
   "id": "e9842c7d-5fc7-431d-b16c-0618c6411c25",
   "metadata": {},
   "outputs": [],
   "source": [
    "# Predicting results \n",
    "y_pred_adb = adb_regressor.predict(X_test)"
   ]
  },
  {
   "cell_type": "code",
   "execution_count": 146,
   "id": "a992f814-1a47-4453-8420-0d66cb0dbc67",
   "metadata": {},
   "outputs": [
    {
     "name": "stdout",
     "output_type": "stream",
     "text": [
      "---- Linear Regression - model Evaluation ---- \n",
      "Mean Absolute Error (MAE): 12.11280417357892\n",
      "Mean Square Error (MSE): 246.5266176217902\n",
      "Root Mean Squared Error (RMSE): 15.701166122991955\n"
     ]
    }
   ],
   "source": [
    "# AdaBoost Regression - Model Evaluation \n",
    "print(\"---- Linear Regression - model Evaluation ---- \")\n",
    "print(\"Mean Absolute Error (MAE): {}\".format(mae(y_test, y_pred_adb)))\n",
    "print(\"Mean Square Error (MSE): {}\".format(mse(y_test, y_pred_adb)))\n",
    "print(\"Root Mean Squared Error (RMSE): {}\".format(np.sqrt(mse(y_test, y_pred_adb))))"
   ]
  },
  {
   "cell_type": "markdown",
   "id": "0eb0f9ad-c303-4d22-a5bc-bf54b68a7aba",
   "metadata": {},
   "source": [
    "Note: Using AdaBoost did not reduce the error to a significant level. Hence, we will you simple linear regression model for prediction \n",
    "## Predictions \n",
    "- Model trained on the data from **IPL Seasons 1 to 9** ie:(2008 to 2016)\n",
    "- Model tested on data from **IPL Season 10** ie: (2017)\n",
    "- Model predicts on data from **IPL Seasons 11 to 12** ie: (2018 to 2019)"
   ]
  },
  {
   "cell_type": "code",
   "execution_count": 151,
   "id": "6ef51776-00e8-4bbd-ad34-5deced7254ce",
   "metadata": {},
   "outputs": [],
   "source": [
    "def predict_score(batting_team='Chennai Super Kings', bowling_team='Mumbai Indians', overs=5.1, runs=50, wickets=0, runs_in_prev_5=50, wickets_in_prev_5=0):\n",
    "  temp_array = list()\n",
    "\n",
    "  # Batting Team\n",
    "  if batting_team == 'Chennai Super Kings':\n",
    "    temp_array = temp_array + [0,0,0,0,0,0,0]\n",
    "  elif batting_team == 'Delhi Daredevils':\n",
    "    temp_array = temp_array + [1,0,0,0,0,0,0]\n",
    "  elif batting_team == 'Kings XI Punjab':\n",
    "    temp_array = temp_array + [0,1,0,0,0,0,0]\n",
    "  elif batting_team == 'Kolkata Knight Riders':\n",
    "    temp_array = temp_array + [0,0,1,0,0,0,0]\n",
    "  elif batting_team == 'Mumbai Indians':\n",
    "    temp_array = temp_array + [0,0,0,1,0,0,0]\n",
    "  elif batting_team == 'Rajasthan Royals':\n",
    "    temp_array = temp_array + [0,0,0,0,1,0,0]\n",
    "  elif batting_team == 'Royal Challengers Bangalore':\n",
    "    temp_array = temp_array + [0,0,0,0,0,1,0]\n",
    "  elif batting_team == 'Sunrisers Hyderabad':\n",
    "    temp_array = temp_array + [0,0,0,0,0,0,1]\n",
    "\n",
    "  # Bowling Team\n",
    "  if bowling_team == 'Chennai Super Kings':\n",
    "    temp_array = temp_array + [0,0,0,0,0,0,0]\n",
    "  elif bowling_team == 'Delhi Daredevils':\n",
    "    temp_array = temp_array + [1,0,0,0,0,0,0]\n",
    "  elif bowling_team == 'Kings XI Punjab':\n",
    "    temp_array = temp_array + [0,1,0,0,0,0,0]\n",
    "  elif bowling_team == 'Kolkata Knight Riders':\n",
    "    temp_array = temp_array + [0,0,1,0,0,0,0]\n",
    "  elif bowling_team == 'Mumbai Indians':\n",
    "    temp_array = temp_array + [0,0,0,1,0,0,0]\n",
    "  elif bowling_team == 'Rajasthan Royals':\n",
    "    temp_array = temp_array + [0,0,0,0,1,0,0]\n",
    "  elif bowling_team == 'Royal Challengers Bangalore':\n",
    "    temp_array = temp_array + [0,0,0,0,0,1,0]\n",
    "  elif bowling_team == 'Sunrisers Hyderabad':\n",
    "    temp_array = temp_array + [0,0,0,0,0,0,1]\n",
    "\n",
    "    # Overs, Runs, Wickets, Runs_in_prev_5, Wickets_in_prev_5\n",
    "  temp_array = temp_array + [overs, runs, wickets, runs_in_prev_5, wickets_in_prev_5]\n",
    "\n",
    "  # Converting into numpy array\n",
    "  temp_array = np.array([temp_array])\n",
    "\n",
    "  # Prediction\n",
    "  return int(linear_regressor.predict(temp_array)[0])\n"
   ]
  },
  {
   "cell_type": "markdown",
   "id": "72068137-784d-4fdb-b9de-a3e1403ea137",
   "metadata": {},
   "source": [
    "## Prediction 1 \n",
    "- Date 16th April 2018\n",
    "- IPL: Season 11\n",
    "- Match number: 13\n",
    "- Teans: kolkata Knight Riders vs Delhi Daredevils\n",
    "- First Inngings final score: 200/9"
   ]
  },
  {
   "cell_type": "code",
   "execution_count": 152,
   "id": "0a1c5870-fa35-4c4a-bcc7-395e9d77a2fc",
   "metadata": {},
   "outputs": [
    {
     "name": "stdout",
     "output_type": "stream",
     "text": [
      "The final predicted score (range): 152 to 167\n"
     ]
    },
    {
     "name": "stderr",
     "output_type": "stream",
     "text": [
      "/Users/sanjaymahto/anaconda3/lib/python3.11/site-packages/sklearn/base.py:465: UserWarning: X does not have valid feature names, but LinearRegression was fitted with feature names\n",
      "  warnings.warn(\n"
     ]
    }
   ],
   "source": [
    "final_score = predict_score(batting_team='Kolkata Knight Riders', bowling_team='Delhi Daredevils', overs=9.2, runs=79, wickets=2, runs_in_prev_5=60, wickets_in_prev_5=1)\n",
    "print(\"The final predicted score (range): {} to {}\".format(final_score-10, final_score+5))\n",
    "     "
   ]
  },
  {
   "cell_type": "markdown",
   "id": "a0623df7-b1c9-421e-8ee1-6e38d7ab9afc",
   "metadata": {},
   "source": [
    "## Prediction 2\n",
    "- Date: 7th May 2018\n",
    "- IPL : Season 11\n",
    "- Match number: 39\n",
    "- Teams: Sunrisers Hyderabad vs. Royal Challengers Bangalore\n",
    "- First Innings final score: 146/10"
   ]
  },
  {
   "cell_type": "code",
   "execution_count": 153,
   "id": "1c47d726-4229-4b2a-9f66-24a95bea3cae",
   "metadata": {},
   "outputs": [
    {
     "name": "stdout",
     "output_type": "stream",
     "text": [
      "The final predicted score (range): 140 to 155\n"
     ]
    },
    {
     "name": "stderr",
     "output_type": "stream",
     "text": [
      "/Users/sanjaymahto/anaconda3/lib/python3.11/site-packages/sklearn/base.py:465: UserWarning: X does not have valid feature names, but LinearRegression was fitted with feature names\n",
      "  warnings.warn(\n"
     ]
    }
   ],
   "source": [
    "final_score = predict_score(batting_team='Sunrisers Hyderabad', bowling_team='Royal Challengers Bangalore', overs=10.5, runs=67, wickets=3, runs_in_prev_5=29, wickets_in_prev_5=1)\n",
    "print(\"The final predicted score (range): {} to {}\".format(final_score-10, final_score+5))\n",
    "     "
   ]
  },
  {
   "cell_type": "markdown",
   "id": "34ab6400-234c-40aa-8681-852102bdc695",
   "metadata": {},
   "source": [
    "## Prediction 3\n",
    "- Date: 17th May 2018\n",
    "- IPL : Season 11\n",
    "- Match number: 50\n",
    "- Teams: Mumbai Indians vs. Kings XI Punjab\n",
    "- First Innings final score: 186/8"
   ]
  },
  {
   "cell_type": "code",
   "execution_count": 154,
   "id": "f314b215-0403-45b8-aaba-54914bd88a9b",
   "metadata": {},
   "outputs": [
    {
     "name": "stdout",
     "output_type": "stream",
     "text": [
      "The final predicted score (range): 145 to 160\n"
     ]
    },
    {
     "name": "stderr",
     "output_type": "stream",
     "text": [
      "/Users/sanjaymahto/anaconda3/lib/python3.11/site-packages/sklearn/base.py:465: UserWarning: X does not have valid feature names, but LinearRegression was fitted with feature names\n",
      "  warnings.warn(\n"
     ]
    }
   ],
   "source": [
    "\n",
    "final_score = predict_score(batting_team='Mumbai Indians', bowling_team='Kings XI Punjab', overs=14.1, runs=136, wickets=4, runs_in_prev_5=50, wickets_in_prev_5=0)\n",
    "print(\"The final predicted score (range): {} to {}\".format(final_score-10, final_score+5))\n",
    "     "
   ]
  },
  {
   "cell_type": "markdown",
   "id": "d5997ce1-da68-409b-9303-d0e93a7a81d9",
   "metadata": {},
   "source": [
    "## Prediction 5\n",
    "- Date: 11th April 2019\n",
    "- IPL : Season 12\n",
    "- Match number: 25\n",
    "- Teams: Rajasthan Royals vs. Chennai Super Kings\n",
    "- First Innings final score: 151/7"
   ]
  },
  {
   "cell_type": "code",
   "execution_count": 155,
   "id": "776d5aec-abc3-4cbe-92ec-0781e3366f41",
   "metadata": {},
   "outputs": [
    {
     "name": "stdout",
     "output_type": "stream",
     "text": [
      "The final predicted score (range): 129 to 144\n"
     ]
    },
    {
     "name": "stderr",
     "output_type": "stream",
     "text": [
      "/Users/sanjaymahto/anaconda3/lib/python3.11/site-packages/sklearn/base.py:465: UserWarning: X does not have valid feature names, but LinearRegression was fitted with feature names\n",
      "  warnings.warn(\n"
     ]
    }
   ],
   "source": [
    "final_score = predict_score(batting_team='Rajasthan Royals', bowling_team='Chennai Super Kings', overs=13.3, runs=92, wickets=5, runs_in_prev_5=27, wickets_in_prev_5=2)\n",
    "print(\"The final predicted score (range): {} to {}\".format(final_score-10, final_score+5))"
   ]
  },
  {
   "cell_type": "markdown",
   "id": "d29bb7dc-22c8-422b-a722-3976f03d54c0",
   "metadata": {},
   "source": [
    "## Prediction 6\n",
    "- Date: 14th April 2019\n",
    "- IPL : Season 12\n",
    "- Match number: 30\n",
    "- Teams: Sunrisers Hyderabad vs. Delhi Daredevils\n",
    "- First Innings final score: 155/7"
   ]
  },
  {
   "cell_type": "code",
   "execution_count": 156,
   "id": "04cf1f3d-ca23-4aa3-bb70-93e9863605f1",
   "metadata": {},
   "outputs": [
    {
     "name": "stdout",
     "output_type": "stream",
     "text": [
      "The final predicted score (range): 147 to 162\n"
     ]
    },
    {
     "name": "stderr",
     "output_type": "stream",
     "text": [
      "/Users/sanjaymahto/anaconda3/lib/python3.11/site-packages/sklearn/base.py:465: UserWarning: X does not have valid feature names, but LinearRegression was fitted with feature names\n",
      "  warnings.warn(\n"
     ]
    }
   ],
   "source": [
    "final_score = predict_score(batting_team='Delhi Daredevils', bowling_team='Sunrisers Hyderabad', overs=11.5, runs=98, wickets=3, runs_in_prev_5=41, wickets_in_prev_5=1)\n",
    "print(\"The final predicted score (range): {} to {}\".format(final_score-10, final_score+5))"
   ]
  },
  {
   "cell_type": "markdown",
   "id": "e0857397-b901-49ee-85bf-98c251b9884d",
   "metadata": {},
   "source": [
    "## Prediction 7\n",
    "- Date: 10th May 2019\n",
    "- IPL : Season 12\n",
    "- Match number: 59 (Eliminator)\n",
    "- Teams: Delhi Daredevils vs. Chennai Super Kings\n",
    "- First Innings final score: 147/9"
   ]
  },
  {
   "cell_type": "code",
   "execution_count": 157,
   "id": "a581153d-cdcd-4b58-be04-add42bafb8d8",
   "metadata": {},
   "outputs": [
    {
     "name": "stdout",
     "output_type": "stream",
     "text": [
      "The final predicted score (range): 142 to 157\n"
     ]
    },
    {
     "name": "stderr",
     "output_type": "stream",
     "text": [
      "/Users/sanjaymahto/anaconda3/lib/python3.11/site-packages/sklearn/base.py:465: UserWarning: X does not have valid feature names, but LinearRegression was fitted with feature names\n",
      "  warnings.warn(\n"
     ]
    }
   ],
   "source": [
    "final_score = predict_score(batting_team='Delhi Daredevils', bowling_team='Chennai Super Kings', overs=10.2, runs=68, wickets=3, runs_in_prev_5=29, wickets_in_prev_5=1)\n",
    "print(\"The final predicted score (range): {} to {}\".format(final_score-10, final_score+5))\n",
    "     "
   ]
  },
  {
   "cell_type": "code",
   "execution_count": null,
   "id": "72d2a4e7-0657-4561-8553-e5650e8e6a50",
   "metadata": {},
   "outputs": [],
   "source": []
  }
 ],
 "metadata": {
  "kernelspec": {
   "display_name": "Python 3 (ipykernel)",
   "language": "python",
   "name": "python3"
  },
  "language_info": {
   "codemirror_mode": {
    "name": "ipython",
    "version": 3
   },
   "file_extension": ".py",
   "mimetype": "text/x-python",
   "name": "python",
   "nbconvert_exporter": "python",
   "pygments_lexer": "ipython3",
   "version": "3.11.5"
  }
 },
 "nbformat": 4,
 "nbformat_minor": 5
}
